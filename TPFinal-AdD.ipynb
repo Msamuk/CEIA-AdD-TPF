{
 "cells": [
  {
   "cell_type": "markdown",
   "id": "3a984768-8f9f-4e72-ab94-cbec276da67a",
   "metadata": {},
   "source": [
    "1. Introducción y motivación\n",
    "Les proponemos para este trabajo final realizar el análisis completo para un set de datos, para \n",
    "ello les vamos a proponer varios de estos y la idea es que ustedes elijan uno.\n",
    "Para dar un poco de noción sobre a qué corresponden estos datos, también vamos a presentar \n",
    "a que tipo de problema/etapa del análisis de datos corresponden.\n",
    "\n",
    "1.1 Datasets disponibles\n",
    "\n",
    "Vamos a proponer 6 datasets:\n",
    "\n",
    "1. Datos de distintas estaciones meteorológicas de Australia. [https://www.kaggle.com/jsphyg/weather-dataset-rattle-package?select=weatherAUS.csv]\n",
    "• Preguntas interesantes para considerar aquí: El objetivo es predecir si lloverá o no \n",
    "al día siguiente (variable RainTomorrow), en función datos meteorológicos del día \n",
    "actual.\n",
    "2. Datos de distintas canciones en Spotify. [https://drive.google.com/file/d/1c1l3OMUFjQWcydV0srKe95LLEfkBMKia/view?usp=sharing]\n",
    "• Preguntas interesantes para considerar aquí: El objetivo aquí es poder estimar si un \n",
    "tema nuevo será del gusto de la persona que tiene esta playlist activa. En este caso \n",
    "la variable label corresponde a nuestra variable de salida a analizar.\n",
    "3. Uso de taxis Yellow Cab en USA en el año 2020. [https://www1.nyc.gov/site/tlc/about/tlc-trip-record-data.page]\n",
    "• Preguntas interesantes para considerar aquí: (elija una o dos)\n",
    "• ¿Existe una manera de caracterizar los lugares más recurrentes para \n",
    "inicio/fin de viaje?\n",
    "• ¿Cómo son los viajes típicamente en distancia y tiempo?\n",
    "• ¿Podremos segmentar los viajes de alguna manera? (clusterización)\n",
    "4. Dataset de Casos de COVID para análisis de dependencia con vacunas. [https://drive.google.com/file/d/1WN37VSY7FcmkEkov8oAAJ3Q00Ur2hnEn/view?usp=sharing]\n",
    "• Preguntas interesantes para considerar aquí:\n",
    "• ¿Existe alguna correlación entre la obligatoriedad de la vacuna BCG y los \n",
    "casos?\n",
    "• ¿Se pueden encontrar valores de interés a nuestro análisis? ¿Cómo se \n",
    "comportan estos datos?\n",
    "5. Dataset de piezas creadas por año de LEGO. [https://www.kaggle.com/rtatman/lego-database]\n",
    "• Preguntas interesantes para considerar aquí:\n",
    "• ¿Cómo evolucionaron los sets de lego en tamaño a través de los años?\n",
    "• ¿Existe alguna asociación entre los colores y las temáticas?\n",
    "• ¿Podría predecir a que temática pertenece un set basado en el \n",
    "contenido de este? (recomendado)\n",
    "• A través de los años, ¿Cuál o cuáles son los sets que tienen las piezas \n",
    "más raras?\n",
    "• ¿Cómo evolucionaron los colores en los sets de lego a través de los \n",
    "años?\n",
    "6. Dataset de comidas varias (Elijan uno). [https://www.kaggle.com/datasets/starbucks/starbucks-menu] [https://www.kaggle.com/datasets/mcdonalds/nutrition-facts] \n",
    "• Starbucks dataset\n",
    "• McDonald’s dataset\n",
    "• Preguntas interesantes para considerar aquí:\n",
    "• ¿Podemos clasificar de alguna manera los ítems de los menues?\n",
    "• ¿Se puede diseñar una manera interesante de mostrar estos datos?\n",
    "• ¿Se puede estimar las calorías de un item basado en sus propiedades?\n",
    "7. MNIST dataset [https://scikit-learn.org/stable/modules/generated/sklearn.datasets.load_digits.html]\n",
    "• Preguntas interesantes:\n",
    "• ¿Se pueden encontrar heurísticas interesantes para clasificar los datos en \n",
    "función de sus valores?\n",
    "• ¿Es posible encontrar representaciones de baja dimensionalidad que nos \n",
    "permitan visualizar posibles grupos?"
   ]
  },
  {
   "cell_type": "markdown",
   "id": "3ac074d0-177e-430d-b114-4ba3d2deb166",
   "metadata": {},
   "source": [
    "2. Análisis exploratorio inicial\n",
    "• Visualizar las primeras filas.\n",
    "• Realizar un resumen de 5 números.\n",
    "• Identificar los tipos de datos: categórico, ordinal, etc. Responder para cada variable su tipo y si \n",
    "es informativa para un problema de clasificación (por ejemplo si se trata de un código, como \n",
    "una matrícula, o un nombre propio).\n",
    "• Identificar las variables de entrada y de salida del problema.\n",
    "• Variables de entrada:\n",
    "o Realizar los siguientes análisis por tipo de variable:\n",
    "• Numéricas: Obtener conclusiones acerca de la distribución de los datos.\n",
    "• Categóricas: Obtener conclusiones acerca de la cardinalidad, representación de cada \n",
    "categoría, etc.\n",
    "• Compuestas: ¿Pueden tratarse para utilizarse en el problema a resolver?\n",
    "• Variables de salida (en caso de aplicar):\n",
    "o ¿Están balanceadas las clases?\n",
    "o (en caso de aplicar) ¿Qué técnicas consideraría para codificar la variable de salida? \n",
    "Justifique."
   ]
  },
  {
   "cell_type": "markdown",
   "id": "f5753e0c-933c-40ed-be58-22834d03720b",
   "metadata": {},
   "source": [
    "3. Limpieza y preparación de datos / ingeniería de features\n",
    "Datos faltantes. Indicar cantidad de observaciones y valores faltantes para cada variable.\n",
    "¿Qué supuestos puede realizar acerca de los datos faltantes? ¿Qué técnicas de imputación \n",
    "recomendaría? Ensayar distintas técnicas y analizar los resultados.\n",
    "En función del estudio inicial de las variables que se hizo en la sección anterior, elegir una \n",
    "técnica de codificación para cada variable. Cuando lo considere apropiado, ensayar distintas técnicas \n",
    "y comparar los resultados, teniendo en cuenta el tipo de clasificador a utilizar. Nota: para tipos de \n",
    "datos compuestos o estructurados, considerar la obtención de variables de tipo \n",
    "numérico/categórico.\n",
    "¿Qué puede decir acerca de las relaciones entre las variables de entrada?\n",
    "Antes de entrenar un modelo de aprendizaje automático, ¿Podría identificar las variables de \n",
    "entrada de mayor importancia? Considerar por lo menos dos técnicas para cada variable. Explique \n",
    "brevemente los métodos utilizados."
   ]
  },
  {
   "cell_type": "markdown",
   "id": "07f743bf-6291-438b-b5b6-6859ab5b3e12",
   "metadata": {},
   "source": [
    "4. Entrenamiento de modelos (opcional)\n",
    "Recurriendo a los modelos que conozca, defina una lista de modelos candidatos a entrenar \n",
    "(puede ser el mismo tipo de clasificador con distintos hiperparámetros). Nota: no se contemplará el \n",
    "desempeño del modelo elegido, sino las conclusiones que puedan establecerse a partir de la \n",
    "preparación previa de los datos.\n",
    "Ensaye distintas cadenas de procesamiento con las técnicas consideradas en la sección 3 (por \n",
    "ejemplo, distintas técnicas de imputación, selección de variables de entrada, codificación de \n",
    "variables categóricas, transformación, etc.).\n",
    "\n",
    "4.1 Separación de datos\n",
    "Los pasos siguientes comprenden las etapas de preparación de datos y evaluación de resultados.\n",
    "Para ello, se debe particionar el dataset en entrenamiento y validación.\n",
    "\n",
    "4.2 Evaluación de resultados\n",
    "¿Qué puede concluir acerca de los modelos y preparaciones de datos ensayadas? Tener en \n",
    "cuenta como cada preparación afecta a los distintos modelos."
   ]
  },
  {
   "cell_type": "markdown",
   "id": "5c1d4e24-ec8c-4e53-a91b-e45b71ad173a",
   "metadata": {},
   "source": [
    "5. Presentación de resultados\n",
    "Como presentación de este trabajo, deberán realizar una presentación para lo cual tendrán un \n",
    "bloque de tiempo de máximo 15 min por grupo. Durante la cursada también les recomendamos \n",
    "fuertemente presenten un informe de varianza muy cortito para poder guiarlos en el desarrollo"
   ]
  },
  {
   "cell_type": "code",
   "execution_count": null,
   "id": "a3b3cf0c-6374-413e-a211-a3fc7a8ad02b",
   "metadata": {},
   "outputs": [],
   "source": []
  }
 ],
 "metadata": {
  "kernelspec": {
   "display_name": "Python 3 (ipykernel)",
   "language": "python",
   "name": "python3"
  },
  "language_info": {
   "codemirror_mode": {
    "name": "ipython",
    "version": 3
   },
   "file_extension": ".py",
   "mimetype": "text/x-python",
   "name": "python",
   "nbconvert_exporter": "python",
   "pygments_lexer": "ipython3",
   "version": "3.10.14"
  }
 },
 "nbformat": 4,
 "nbformat_minor": 5
}
